{
 "cells": [
  {
   "cell_type": "markdown",
   "metadata": {},
   "source": [
    "# Analises baseado na escolaridade"
   ]
  },
  {
   "cell_type": "code",
   "execution_count": null,
   "metadata": {},
   "outputs": [],
   "source": [
    "import pandas as pd\n",
    "\n",
    "df = pd.read_csv('../dados-tratados/pc-11.csv', sep=';')\n",
    "display(df)\n",
    "\n",
    "df = df[['Escolaridade', 'Na semana passada teve febre?']]\n",
    "pd.crosstab(df['Escolaridade'], df['Na semana passada teve febre?'])"
   ]
  },
  {
   "cell_type": "code",
   "execution_count": null,
   "metadata": {},
   "outputs": [],
   "source": [
    "import pandasql as ps\n",
    "\n",
    "query = \"\"\"\n",
    "SELECT\n",
    "    Escolaridade,\n",
    "    ROUND(100.0 * SUM(CASE WHEN Febre = 'Sim' THEN 1 ELSE 0 END) / COUNT(*), 2) AS \"Febre Sim (%)\",\n",
    "    ROUND(100.0 * SUM(CASE WHEN Febre = 'Não' THEN 1 ELSE 0 END) / COUNT(*), 2) AS \"Febre Não (%)\",\n",
    "    ROUND(100.0 * SUM(CASE WHEN Tosse = 'Sim' THEN 1 ELSE 0 END) / COUNT(*), 2) AS \"Tosse Sim (%)\",\n",
    "    ROUND(100.0 * SUM(CASE WHEN Tosse = 'Não' THEN 1 ELSE 0 END) / COUNT(*), 2) AS \"Tosse Não (%)\",\n",
    "    ROUND(100.0 * SUM(CASE WHEN \"Dor de garganta\" = 'Sim' THEN 1 ELSE 0 END) / COUNT(*), 2) AS \"Dor de garganta Sim (%)\",\n",
    "    ROUND(100.0 * SUM(CASE WHEN \"Dor de garganta\" = 'Não' THEN 1 ELSE 0 END) / COUNT(*), 2) AS \"Dor de garganta Não (%)\",\n",
    "    ROUND(100.0 * SUM(CASE WHEN \"Dificuldade de respirar\" = 'Sim' THEN 1 ELSE 0 END) / COUNT(*), 2) AS \"Dificuldade de respirar Sim (%)\",\n",
    "    ROUND(100.0 * SUM(CASE WHEN \"Dificuldade de respirar\" = 'Não' THEN 1 ELSE 0 END) / COUNT(*), 2) AS \"Dificuldade de respirar Não (%)\",\n",
    "    ROUND(100.0 * SUM(CASE WHEN \"Dor de cabeca\" = 'Sim' THEN 1 ELSE 0 END) / COUNT(*), 2) AS \"Dor de cabeça Sim (%)\",\n",
    "    ROUND(100.0 * SUM(CASE WHEN \"Dor de cabeca\" = 'Não' THEN 1 ELSE 0 END) / COUNT(*), 2) AS \"Dor de cabeça Não (%)\",\n",
    "    ROUND(100.0 * SUM(CASE WHEN \"Dor no peito\" = 'Sim' THEN 1 ELSE 0 END) / COUNT(*), 2) AS \"Dor no peito Sim (%)\",\n",
    "    ROUND(100.0 * SUM(CASE WHEN \"Dor no peito\" = 'Não' THEN 1 ELSE 0 END) / COUNT(*), 2) AS \"Dor no peito Não (%)\",\n",
    "    ROUND(100.0 * SUM(CASE WHEN Nausea = 'Sim' THEN 1 ELSE 0 END) / COUNT(*), 2) AS \"Náusea Sim (%)\",\n",
    "    ROUND(100.0 * SUM(CASE WHEN Nausea = 'Não' THEN 1 ELSE 0 END) / COUNT(*), 2) AS \"Náusea Não (%)\",\n",
    "    ROUND(100.0 * SUM(CASE WHEN \"Nariz entupido ou escorrendo\" = 'Sim' THEN 1 ELSE 0 END) / COUNT(*), 2) AS \"Nariz entupido ou escorrendo Sim (%)\",\n",
    "    ROUND(100.0 * SUM(CASE WHEN \"Nariz entupido ou escorrendo\" = 'Não' THEN 1 ELSE 0 END) / COUNT(*), 2) AS \"Nariz entupido ou escorrendo Não (%)\",\n",
    "    ROUND(100.0 * SUM(CASE WHEN Fadiga = 'Sim' THEN 1 ELSE 0 END) / COUNT(*), 2) AS \"Fadiga Sim (%)\",\n",
    "    ROUND(100.0 * SUM(CASE WHEN Fadiga = 'Não' THEN 1 ELSE 0 END) / COUNT(*), 2) AS \"Fadiga Não (%)\",\n",
    "    ROUND(100.0 * SUM(CASE WHEN \"Dor nos olhos\" = 'Sim' THEN 1 ELSE 0 END) / COUNT(*), 2) AS \"Dor nos olhos Sim (%)\",\n",
    "    ROUND(100.0 * SUM(CASE WHEN \"Dor nos olhos\" = 'Não' THEN 1 ELSE 0 END) / COUNT(*), 2) AS \"Dor nos olhos Não (%)\",\n",
    "    ROUND(100.0 * SUM(CASE WHEN \"Perda de cheiro ou sabor\" = 'Sim' THEN 1 ELSE 0 END) / COUNT(*), 2) AS \"Perda de cheiro ou sabor Sim (%)\",\n",
    "    ROUND(100.0 * SUM(CASE WHEN \"Perda de cheiro ou sabor\" = 'Não' THEN 1 ELSE 0 END) / COUNT(*), 2) AS \"Perda de cheiro ou sabor Não (%)\",\n",
    "    ROUND(100.0 * SUM(CASE WHEN \"Dor muscular\" = 'Sim' THEN 1 ELSE 0 END) / COUNT(*), 2) AS \"Dor muscular Sim (%)\",\n",
    "    ROUND(100.0 * SUM(CASE WHEN \"Dor muscular\" = 'Não' THEN 1 ELSE 0 END) / COUNT(*), 2) AS \"Dor muscular Não (%)\"\n",
    "FROM result\n",
    "GROUP BY CASE Escolaridade\n",
    "    WHEN 'Sem instrução' THEN 1\n",
    "    WHEN 'Fundamental incompleto' THEN 2\n",
    "    WHEN 'Fundamental completa' THEN 3\n",
    "    WHEN 'Médio incompleto' THEN 4\n",
    "    WHEN 'Médio completo' THEN 5\n",
    "    WHEN 'Superior incompleto' THEN 6\n",
    "    WHEN 'Superior completo' THEN 7\n",
    "    WHEN 'Pós-graduação, mestrado ou doutorado' THEN 8\n",
    "    ELSE 9 -- Caso apareça alguma outra categoria\n",
    "END;\n",
    "\"\"\"\n",
    "\n",
    "display(select)"
   ]
  }
 ],
 "metadata": {
  "kernelspec": {
   "display_name": ".venv",
   "language": "python",
   "name": "python3"
  },
  "language_info": {
   "codemirror_mode": {
    "name": "ipython",
    "version": 3
   },
   "file_extension": ".py",
   "mimetype": "text/x-python",
   "name": "python",
   "nbconvert_exporter": "python",
   "pygments_lexer": "ipython3",
   "version": "3.12.3"
  }
 },
 "nbformat": 4,
 "nbformat_minor": 2
}
